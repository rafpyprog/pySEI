{
 "cells": [
  {
   "cell_type": "code",
   "execution_count": 31,
   "metadata": {},
   "outputs": [],
   "source": [
    "import matplotlib.pyplot as plt\n",
    "import pandas as pd\n",
    "%matplotlib inline"
   ]
  },
  {
   "cell_type": "markdown",
   "metadata": {},
   "source": [
    "* Imóveis ativos cujos responsáveis não possuem RIP"
   ]
  },
  {
   "cell_type": "code",
   "execution_count": 19,
   "metadata": {},
   "outputs": [
    {
     "data": {
      "text/html": [
       "<div>\n",
       "<style scoped>\n",
       "    .dataframe tbody tr th:only-of-type {\n",
       "        vertical-align: middle;\n",
       "    }\n",
       "\n",
       "    .dataframe tbody tr th {\n",
       "        vertical-align: top;\n",
       "    }\n",
       "\n",
       "    .dataframe thead th {\n",
       "        text-align: right;\n",
       "    }\n",
       "</style>\n",
       "<table border=\"1\" class=\"dataframe\">\n",
       "  <thead>\n",
       "    <tr style=\"text-align: right;\">\n",
       "      <th></th>\n",
       "      <th>nu_rip</th>\n",
       "      <th>nu_processo_adm_inclusao</th>\n",
       "      <th>nu_resp</th>\n",
       "      <th>no_resp</th>\n",
       "    </tr>\n",
       "  </thead>\n",
       "  <tbody>\n",
       "    <tr>\n",
       "      <th>0</th>\n",
       "      <td>11530004139</td>\n",
       "      <td>04911000712200449</td>\n",
       "      <td>000000242</td>\n",
       "      <td>ZILA DE SOUZA ALMEIDA                         ...</td>\n",
       "    </tr>\n",
       "    <tr>\n",
       "      <th>1</th>\n",
       "      <td>13890006276</td>\n",
       "      <td>04988005341201127</td>\n",
       "      <td>000000330</td>\n",
       "      <td>ZENAIDE DOS SANTOS                            ...</td>\n",
       "    </tr>\n",
       "    <tr>\n",
       "      <th>2</th>\n",
       "      <td>13890006274</td>\n",
       "      <td>04988000990201646</td>\n",
       "      <td>000000331</td>\n",
       "      <td>ZENAIDE DOS SANTOS                            ...</td>\n",
       "    </tr>\n",
       "    <tr>\n",
       "      <th>3</th>\n",
       "      <td>13890006248</td>\n",
       "      <td>04988000807201611</td>\n",
       "      <td>000000360</td>\n",
       "      <td>ZELIA RODRIGUES DE ALMEIDA                    ...</td>\n",
       "    </tr>\n",
       "    <tr>\n",
       "      <th>4</th>\n",
       "      <td>56470002895</td>\n",
       "      <td>04947001584201172</td>\n",
       "      <td>000000397</td>\n",
       "      <td>ZEFERINA MARIA DA CONCEICAO                   ...</td>\n",
       "    </tr>\n",
       "  </tbody>\n",
       "</table>\n",
       "</div>"
      ],
      "text/plain": [
       "        nu_rip nu_processo_adm_inclusao    nu_resp  \\\n",
       "0  11530004139        04911000712200449  000000242   \n",
       "1  13890006276        04988005341201127  000000330   \n",
       "2  13890006274        04988000990201646  000000331   \n",
       "3  13890006248        04988000807201611  000000360   \n",
       "4  56470002895        04947001584201172  000000397   \n",
       "\n",
       "                                             no_resp  \n",
       "0  ZILA DE SOUZA ALMEIDA                         ...  \n",
       "1  ZENAIDE DOS SANTOS                            ...  \n",
       "2  ZENAIDE DOS SANTOS                            ...  \n",
       "3  ZELIA RODRIGUES DE ALMEIDA                    ...  \n",
       "4  ZEFERINA MARIA DA CONCEICAO                   ...  "
      ]
     },
     "execution_count": 19,
     "metadata": {},
     "output_type": "execute_result"
    }
   ],
   "source": [
    "converters = {0: str, 1: str, 2: str}\n",
    "df = pd.read_csv('responsaveis-sem-cpf.csv', sep=';', converters=converters)\n",
    "df.head()"
   ]
  },
  {
   "cell_type": "markdown",
   "metadata": {},
   "source": [
    "* Dados da pesquisa dos processos no SEI"
   ]
  },
  {
   "cell_type": "code",
   "execution_count": 44,
   "metadata": {},
   "outputs": [
    {
     "data": {
      "text/html": [
       "<div>\n",
       "<style scoped>\n",
       "    .dataframe tbody tr th:only-of-type {\n",
       "        vertical-align: middle;\n",
       "    }\n",
       "\n",
       "    .dataframe tbody tr th {\n",
       "        vertical-align: top;\n",
       "    }\n",
       "\n",
       "    .dataframe thead th {\n",
       "        text-align: right;\n",
       "    }\n",
       "</style>\n",
       "<table border=\"1\" class=\"dataframe\">\n",
       "  <thead>\n",
       "    <tr style=\"text-align: right;\">\n",
       "      <th></th>\n",
       "      <th>nu_processo_adm_inclusao</th>\n",
       "      <th>processo_existe</th>\n",
       "    </tr>\n",
       "  </thead>\n",
       "  <tbody>\n",
       "    <tr>\n",
       "      <th>0</th>\n",
       "      <td>102800099458522</td>\n",
       "      <td>False</td>\n",
       "    </tr>\n",
       "    <tr>\n",
       "      <th>1</th>\n",
       "      <td>04957007400200782</td>\n",
       "      <td>False</td>\n",
       "    </tr>\n",
       "    <tr>\n",
       "      <th>2</th>\n",
       "      <td>04800100868261</td>\n",
       "      <td>False</td>\n",
       "    </tr>\n",
       "    <tr>\n",
       "      <th>3</th>\n",
       "      <td>508000718834</td>\n",
       "      <td>False</td>\n",
       "    </tr>\n",
       "    <tr>\n",
       "      <th>4</th>\n",
       "      <td>110800091938691</td>\n",
       "      <td>False</td>\n",
       "    </tr>\n",
       "  </tbody>\n",
       "</table>\n",
       "</div>"
      ],
      "text/plain": [
       "  nu_processo_adm_inclusao processo_existe\n",
       "0          102800099458522           False\n",
       "1        04957007400200782           False\n",
       "2           04800100868261           False\n",
       "3             508000718834           False\n",
       "4          110800091938691           False"
      ]
     },
     "execution_count": 44,
     "metadata": {},
     "output_type": "execute_result"
    }
   ],
   "source": [
    "sei = pd.read_csv('processos_rip_pesquisa.csv', sep=';', converters=converters, header=None, names=['nu_processo_adm_inclusao', 'processo_existe'])\n",
    "sei.head()"
   ]
  },
  {
   "cell_type": "code",
   "execution_count": 21,
   "metadata": {},
   "outputs": [],
   "source": [
    "df = df.merge(sei, how='left', on='nu_processo_adm_inclusao')"
   ]
  },
  {
   "cell_type": "code",
   "execution_count": 43,
   "metadata": {},
   "outputs": [
    {
     "data": {
      "text/html": [
       "<div>\n",
       "<style scoped>\n",
       "    .dataframe tbody tr th:only-of-type {\n",
       "        vertical-align: middle;\n",
       "    }\n",
       "\n",
       "    .dataframe tbody tr th {\n",
       "        vertical-align: top;\n",
       "    }\n",
       "\n",
       "    .dataframe thead th {\n",
       "        text-align: right;\n",
       "    }\n",
       "</style>\n",
       "<table border=\"1\" class=\"dataframe\">\n",
       "  <thead>\n",
       "    <tr style=\"text-align: right;\">\n",
       "      <th></th>\n",
       "      <th>nu_rip</th>\n",
       "    </tr>\n",
       "    <tr>\n",
       "      <th>processo_existe</th>\n",
       "      <th></th>\n",
       "    </tr>\n",
       "  </thead>\n",
       "  <tbody>\n",
       "    <tr>\n",
       "      <th>False</th>\n",
       "      <td>0.35</td>\n",
       "    </tr>\n",
       "    <tr>\n",
       "      <th>True</th>\n",
       "      <td>0.65</td>\n",
       "    </tr>\n",
       "  </tbody>\n",
       "</table>\n",
       "</div>"
      ],
      "text/plain": [
       "                 nu_rip\n",
       "processo_existe        \n",
       "False              0.35\n",
       "True               0.65"
      ]
     },
     "execution_count": 43,
     "metadata": {},
     "output_type": "execute_result"
    }
   ],
   "source": [
    "def acumula(x):\n",
    "    return round(len(x) / len(df), 2)\n",
    "\n",
    "df.groupby('processo_existe').agg({'nu_rip': acumula})"
   ]
  }
 ],
 "metadata": {
  "kernelspec": {
   "display_name": "Python 3",
   "language": "python",
   "name": "python3"
  },
  "language_info": {
   "codemirror_mode": {
    "name": "ipython",
    "version": 3
   },
   "file_extension": ".py",
   "mimetype": "text/x-python",
   "name": "python",
   "nbconvert_exporter": "python",
   "pygments_lexer": "ipython3",
   "version": "3.6.2"
  }
 },
 "nbformat": 4,
 "nbformat_minor": 2
}
